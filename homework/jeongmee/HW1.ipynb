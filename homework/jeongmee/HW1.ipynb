{
 "cells": [
  {
   "attachments": {
    "image.png": {
     "image/png": "[encoded data removed]"
    }
   },
   "cell_type": "markdown",
   "metadata": {},
   "source": [
    "# 파이썬 프로그래밍 실습1\n",
    "\n",
    "## (문제 1) PPT(실습 문제1)\n",
    "화씨온도(℉)를 입력 받아서 섭씨온도(℃)로 바꾸는 프로그램을 작성하시오. (밑줄은 사용자 입력)\n",
    "\n",
    "![image.png](attachment:image.png)"
   ]
  },
  {
   "cell_type": "code",
   "execution_count": 8,
   "metadata": {},
   "outputs": [
    {
     "name": "stdout",
     "output_type": "stream",
     "text": [
      "화씨온도: 100\n",
      "섭씨온도: 37.77777777777778\n"
     ]
    }
   ],
   "source": [
    "F = int(input(\"화씨온도: \"))\n",
    "C = (F-32)*5/9\n",
    "print(\"섭씨온도:\",C)"
   ]
  },
  {
   "cell_type": "markdown",
   "metadata": {},
   "source": [
    "## (문제 2) 자동 판매기 프로그램 - PPT(실습문제2)\n",
    "사용자로부터 투입한 돈과 물건 값을 입력 받아, 잔돈을 계산하여 출력한다. 단, 동전의 개수는 최소화 할 것\n",
    "(가정) \n",
    "- 물건 값은 100원 단위\n",
    "- 자판기의 동전은 500원, 100원만 있음"
   ]
  },
  {
   "cell_type": "code",
   "execution_count": 16,
   "metadata": {},
   "outputs": [
    {
     "name": "stdout",
     "output_type": "stream",
     "text": [
      "투입한 돈: 5000\n",
      "물건값: 2300\n",
      "거스름돈: 2700\n",
      "500원짜리: 5개\n",
      "100원짜리: 2개\n"
     ]
    }
   ],
   "source": [
    "cash = int(input(\"투입한 돈: \"))\n",
    "price = int(input(\"물건값: \"))\n",
    "\n",
    "change = cash - price\n",
    "print(\"거스름돈:\",change)\n",
    "\n",
    "a = int(change / 500)\n",
    "b = int((change - 500 * a) / 100)\n",
    "print(\"500원짜리:\", str(a) +\"개\")\n",
    "print(\"100원짜리:\", str(b) +\"개\")"
   ]
  },
  {
   "attachments": {
    "image.png": {
     "image/png": "[encoded data removed]"
    }
   },
   "cell_type": "markdown",
   "metadata": {},
   "source": [
    "## (문제 3) 원의 반지름을 r을 입력 받아, 원의 둘레와 넓이를 구하는 프로그램을 작성하시오.\n",
    "\n",
    "![image.png](attachment:image.png)"
   ]
  },
  {
   "cell_type": "code",
   "execution_count": 7,
   "metadata": {},
   "outputs": [
    {
     "name": "stdout",
     "output_type": "stream",
     "text": [
      "반지름을 입력하시오:5\n",
      "원 둘레: 31.42\n",
      "원 넓이: 78.54\n"
     ]
    }
   ],
   "source": [
    "pi = 3.141592\n",
    "\n",
    "r = int(input(\"반지름을 입력하시오:\"))\n",
    "print(\"원 둘레:\",round(2 * pi * r,2))\n",
    "print(\"원 넓이:\",round(pi * r * r,2))"
   ]
  },
  {
   "cell_type": "markdown",
   "metadata": {},
   "source": [
    "## (문제 4) 한 문장을 입력 받아, 아래와 같이 각 알파벳 각 문자를 원소로 갖는 리스트를 작성하시오. (문장중에 ! , . ? –를 제외한 문자의 입력은 고려하지 않는다.)"
   ]
  },
  {
   "cell_type": "code",
   "execution_count": 20,
   "metadata": {},
   "outputs": [
    {
     "name": "stdout",
     "output_type": "stream",
     "text": [
      "한 문장을 입력하시오:Python is fun!\n",
      "['P,y,t,h,o,n,', ',i,s,', ',f,u,n,!']\n"
     ]
    }
   ],
   "source": [
    "s = input(\"한 문장을 입력하시오:\")\n",
    "c = ','\n",
    "word = c.join(s)\n",
    "print(word.split())"
   ]
  },
  {
   "cell_type": "markdown",
   "metadata": {},
   "source": [
    "## (문제 5) 2개의 정수를 입력 받아, 사칙연산 및 나머지 연산의 결과를 아래와 같이 출력하는 프로그램을 작성하시오."
   ]
  },
  {
   "cell_type": "code",
   "execution_count": 13,
   "metadata": {},
   "outputs": [
    {
     "name": "stdout",
     "output_type": "stream",
     "text": [
      "Enter two integers:8 5\n",
      "8 + 5 = 13\n",
      "8 - 5 = 3\n",
      "8 * 5 = 40\n",
      "8 / 5 = 1.6\n",
      "8 % 5 = 3\n"
     ]
    }
   ],
   "source": [
    "s = input(\"Enter two integers:\")\n",
    "a, b = s.split(\" \")\n",
    "a = int(a)\n",
    "b = int(b)\n",
    "\n",
    "print(\"%d + %d = %d\" %(a, b, a+b))\n",
    "print(\"%d - %d = %d\" %(a, b, a-b))\n",
    "print(\"%d * %d = %d\" %(a, b, a*b))\n",
    "print(\"%d / %d = %.1f\" %(a, b, a/b))\n",
    "print(\"%d %% %d = %d\" %(a, b, a%b))"
   ]
  },
  {
   "cell_type": "markdown",
   "metadata": {},
   "source": [
    "## (문제 6) 두 정수를 입력 받아, 합과 평균을 구하여 출력하는 프로그램을 작성하시오.\n",
    "(평균 소수 첫째 자리까지 나타내기) "
   ]
  },
  {
   "cell_type": "code",
   "execution_count": 15,
   "metadata": {},
   "outputs": [
    {
     "name": "stdout",
     "output_type": "stream",
     "text": [
      "Enter two integers:70 91\n",
      "The sum of 70 and 91 is 161\n",
      "The average of numbers is 80.5\n"
     ]
    }
   ],
   "source": [
    "s = input(\"Enter two integers:\")\n",
    "a, b = s.split(\" \")\n",
    "a = int(a)\n",
    "b = int(b)\n",
    "\n",
    "print(\"The sum of %d and %d is %d\" %(a, b, a+b))\n",
    "print(\"The average of numbers is %.1f\" %((a+b)/2))"
   ]
  },
  {
   "cell_type": "markdown",
   "metadata": {},
   "source": [
    "## (문제 7) PPT(실습문제2)\n",
    "아래의 실행예제를 참고하여 프로그램을 작성하라."
   ]
  },
  {
   "cell_type": "code",
   "execution_count": 44,
   "metadata": {},
   "outputs": [
    {
     "name": "stdout",
     "output_type": "stream",
     "text": [
      "날짜(연/월/일)입력: 2019/08/21\n",
      "입력한 날짜의 10년 후는 2029년 08월 21일\n"
     ]
    }
   ],
   "source": [
    "s1 = input(\"날짜(연/월/일)입력: \")\n",
    "year,month,day = s1.split(\"/\")\n",
    "print(\"입력한 날짜의 10년 후는 %d년 %s월 %s일\" %(int(year) + 10, month, day))"
   ]
  }
 ],
 "metadata": {
  "kernelspec": {
   "display_name": "Python 3",
   "language": "python",
   "name": "python3"
  },
  "language_info": {
   "codemirror_mode": {
    "name": "ipython",
    "version": 3
   },
   "file_extension": ".py",
   "mimetype": "text/x-python",
   "name": "python",
   "nbconvert_exporter": "python",
   "pygments_lexer": "ipython3",
   "version": "3.7.3"
  }
 },
 "nbformat": 4,
 "nbformat_minor": 2
}
