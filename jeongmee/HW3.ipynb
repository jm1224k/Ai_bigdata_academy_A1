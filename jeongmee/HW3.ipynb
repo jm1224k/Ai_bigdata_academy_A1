{
 "cells": [
  {
   "cell_type": "markdown",
   "metadata": {},
   "source": [
    "## 1. 딕셔너리(dict)\n",
    "\n",
    "실습1) for 문을 사용하여 딕셔너리 타입의 d의 모든 value를 출력해 보시오."
   ]
  },
  {
   "cell_type": "code",
   "execution_count": 57,
   "metadata": {},
   "outputs": [
    {
     "name": "stdout",
     "output_type": "stream",
     "text": [
      "1 2 10 "
     ]
    }
   ],
   "source": [
    "d = {'youn': 1, 'park': 2, 'kim': 10}\n",
    "\n",
    "for i in d.values():\n",
    "    print(i, end=\" \")"
   ]
  },
  {
   "cell_type": "markdown",
   "metadata": {},
   "source": [
    "실습2) 아래와 같은 딕셔너리가 있다.\n",
    "\n",
    "d = { 'one':1, 'two':2, 'three':3, 'four':4, 'five':5} \n",
    "\n",
    "key의 알파벳을 기준으로 순서대로 아래와 같이 (key, value)로 출력하시오."
   ]
  },
  {
   "cell_type": "code",
   "execution_count": 23,
   "metadata": {},
   "outputs": [
    {
     "name": "stdout",
     "output_type": "stream",
     "text": [
      "five 5\n",
      "four 4\n",
      "one 1\n",
      "three 3\n",
      "two 2\n"
     ]
    }
   ],
   "source": [
    "d = { 'one':1, 'two':2, 'three':3, 'four':4, 'five':5}\n",
    "\n",
    "od = sorted(d)\n",
    "\n",
    "for i in od:\n",
    "    print(i, d[i])"
   ]
  },
  {
   "cell_type": "markdown",
   "metadata": {},
   "source": [
    "실습3) – PPT 문제\n",
    "\n",
    "어떤 문장을 입력 받으면 해당 문장에서 각 알파벳이 몇 개씩 나오는지 저장하는 딕셔너리를 만든 후, 아래와 같이 출력하시오."
   ]
  },
  {
   "cell_type": "code",
   "execution_count": 60,
   "metadata": {},
   "outputs": [
    {
     "name": "stdout",
     "output_type": "stream",
     "text": [
      "Enter a sentence:Python is fun!\n",
      "{'P': 1, 'y': 1, 't': 1, 'h': 1, 'o': 1, 'n': 2, ' ': 2, 'i': 1, 's': 1, 'f': 1, 'u': 1, '!': 1}\n"
     ]
    }
   ],
   "source": [
    "s = input(\"Enter a sentence:\")\n",
    "d = {}\n",
    "\n",
    "for i in s:\n",
    "    if i in d:\n",
    "        d[i] += 1\n",
    "    else:\n",
    "        d[i] = 1\n",
    "print(d)"
   ]
  },
  {
   "cell_type": "code",
   "execution_count": 66,
   "metadata": {},
   "outputs": [
    {
     "name": "stdout",
     "output_type": "stream",
     "text": [
      "Enter a sentence:Python is fun!\n",
      "{'h': 1, 'n': 2, 't': 1, '!': 1, 'u': 1, 'o': 1, 'P': 1, 's': 1, 'f': 1, ' ': 2, 'y': 1, 'i': 1}\n"
     ]
    }
   ],
   "source": [
    "#using set\n",
    "s = input(\"Enter a sentence:\")\n",
    "s1 = set(s)\n",
    "d = {}\n",
    "\n",
    "for i in s1:\n",
    "    d[i] = s.count(i)\n",
    "\n",
    "print(d)"
   ]
  },
  {
   "cell_type": "markdown",
   "metadata": {},
   "source": [
    "## 2. 파일 \n",
    "실습1) – PPT 자료\n",
    "\n",
    "파일에 있는 각각의 단어 수 구하기\n",
    "\n",
    "<test.txt>\n",
    "\n",
    "first line\n",
    "\n",
    "second line\n",
    "\n",
    "third line"
   ]
  },
  {
   "cell_type": "code",
   "execution_count": 68,
   "metadata": {},
   "outputs": [
    {
     "name": "stdout",
     "output_type": "stream",
     "text": [
      "first 1\n",
      "line 3\n",
      "second 1\n",
      "third 1\n"
     ]
    }
   ],
   "source": [
    "import os\n",
    "\n",
    "d = {}\n",
    "\n",
    "if os.path.exists(\"test.txt\"):\n",
    "    f = open(\"test.txt\", \"r\")\n",
    "\n",
    "    s = f.read()\n",
    "    words = s.split()\n",
    "\n",
    "    for i in words:\n",
    "        if i in d:\n",
    "            d[i] += 1\n",
    "        else:\n",
    "            d[i] = 1\n",
    "\n",
    "    for i in d:\n",
    "        print(i, d[i])\n",
    "\n",
    "    f.close()"
   ]
  },
  {
   "cell_type": "markdown",
   "metadata": {},
   "source": [
    "실습2) – PPT 자료\n",
    "\n",
    "파일명을 입력 받아, 해당 파일을 한 줄씩 읽어 파일의 내용을 모두 대문자로 출력하는 프로그램을 작성하시오."
   ]
  },
  {
   "cell_type": "code",
   "execution_count": 71,
   "metadata": {},
   "outputs": [
    {
     "name": "stdout",
     "output_type": "stream",
     "text": [
      "Enter a file name:test.txt\n",
      "FIRST LINE\n",
      "SECOND LINE\n",
      "THIRD LINE\n"
     ]
    }
   ],
   "source": [
    "import os\n",
    "\n",
    "s = input(\"Enter a file name:\")\n",
    "\n",
    "if os.path.exists(s):\n",
    "    f = open(s, \"r\")\n",
    "    word = f.read()\n",
    "    word = word.upper()\n",
    "\n",
    "    print(word)\n",
    "    f.close()"
   ]
  },
  {
   "cell_type": "markdown",
   "metadata": {},
   "source": [
    "실습3) 아래의 실행예시처럼 리눅스 쉘에서 원본파일명(src.txt)과 사본파일(dst.txt)을 입력 받아, 복사하는 프로그램을 작성하시오. \n",
    "\n",
    "## *ex03.py file로 첨부하였습니다."
   ]
  },
  {
   "cell_type": "markdown",
   "metadata": {},
   "source": [
    "실습4) 아래의 score.txt를 읽어서 학생들의 성적을 처리하여 그 결과를 report.txt로 출력하는 프로그램을 작성하시오.\n",
    "\n",
    "(학점기준) \n",
    "\n",
    "총점이 90이상이면 A,\n",
    "\n",
    "80이상~90미만이면 B\n",
    "\n",
    "70이상~80미만이면 C\n",
    "\n",
    "60이상~70미만이면 D\n",
    "\n",
    "60미만이면 F"
   ]
  },
  {
   "cell_type": "code",
   "execution_count": 70,
   "metadata": {},
   "outputs": [],
   "source": [
    "import os\n",
    "\n",
    "if os.path.exists(\"score.txt\") and os.path.exists(\"report.txt\"):\n",
    "    f1 = open(\"score.txt\",\"r\")\n",
    "    f2 = open(\"report.txt\", \"w\")\n",
    "\n",
    "    line = f1.readline()\n",
    "\n",
    "    while line:\n",
    "        _id, a, b = line.split()\n",
    "        total = (int(a) + int(b))/2\n",
    "\n",
    "        rank = ''\n",
    "        if total >= 90:\n",
    "            rank = 'A'\n",
    "        elif total >= 80:\n",
    "            rank = 'B'\n",
    "        elif total >= 70:\n",
    "            rank = 'C'\n",
    "        elif total >= 60:\n",
    "            rank = 'D'\n",
    "        else:\n",
    "            rank = 'F'\n",
    "\n",
    "        data = \"%s %s %s %.1f(%s)\\n\" %(_id, a, b, total, rank)\n",
    "        f2.write(data)\n",
    "\n",
    "        line = f1.readline()\n",
    "\n",
    "    f1.close()\n",
    "    f2.close()"
   ]
  },
  {
   "cell_type": "markdown",
   "metadata": {},
   "source": [
    "## 3. Pythonic Code \n",
    "\n",
    "실습1) \n",
    "아래와 같이 주어진 2개의 리스트로 딕셔너리를 만들어 출력하시오. 단, 순서는 다를 수 있음"
   ]
  },
  {
   "cell_type": "code",
   "execution_count": 50,
   "metadata": {},
   "outputs": [
    {
     "data": {
      "text/plain": [
       "{'one': 1, 'two': 2, 'three': 3, 'four': 4}"
      ]
     },
     "execution_count": 50,
     "metadata": {},
     "output_type": "execute_result"
    }
   ],
   "source": [
    "L1 = ['one', 'two', 'three', 'four']\n",
    "L2 = [1, 2, 3, 4]\n",
    "\n",
    "dict(zip(L1, L2))"
   ]
  }
 ],
 "metadata": {
  "kernelspec": {
   "display_name": "Python 3",
   "language": "python",
   "name": "python3"
  },
  "language_info": {
   "codemirror_mode": {
    "name": "ipython",
    "version": 3
   },
   "file_extension": ".py",
   "mimetype": "text/x-python",
   "name": "python",
   "nbconvert_exporter": "python",
   "pygments_lexer": "ipython3",
   "version": "3.7.3"
  }
 },
 "nbformat": 4,
 "nbformat_minor": 2
}
